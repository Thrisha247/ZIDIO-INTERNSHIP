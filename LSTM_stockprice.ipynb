{
 "cells": [
  {
   "cell_type": "code",
   "execution_count": 3,
   "id": "f39b0462-a929-4618-930f-c22a6283b9d4",
   "metadata": {
    "scrolled": true
   },
   "outputs": [
    {
     "name": "stdout",
     "output_type": "stream",
     "text": [
      "Requirement already satisfied: numpy in c:\\users\\nithy\\appdata\\local\\programs\\python\\python313\\lib\\site-packages (2.3.1)\n",
      "Requirement already satisfied: pandas in c:\\users\\nithy\\appdata\\local\\programs\\python\\python313\\lib\\site-packages (2.3.1)\n",
      "Requirement already satisfied: matplotlib in c:\\users\\nithy\\appdata\\local\\programs\\python\\python313\\lib\\site-packages (3.10.3)\n",
      "Requirement already satisfied: scikit-learn in c:\\users\\nithy\\appdata\\local\\programs\\python\\python313\\lib\\site-packages (1.7.1)\n",
      "Note: you may need to restart the kernel to use updated packages.\n"
     ]
    },
    {
     "name": "stderr",
     "output_type": "stream",
     "text": [
      "ERROR: Could not find a version that satisfies the requirement tensorflow (from versions: none)\n",
      "ERROR: No matching distribution found for tensorflow\n"
     ]
    }
   ],
   "source": [
    "pip install numpy pandas matplotlib scikit-learn tensorflow\n"
   ]
  },
  {
   "cell_type": "code",
   "execution_count": null,
   "id": "0c0a5dcf-a550-4371-894c-e13d622b6c16",
   "metadata": {},
   "outputs": [],
   "source": [
    "!pip install scikit-learn"
   ]
  },
  {
   "cell_type": "code",
   "execution_count": null,
   "id": "23d4505f-2b5a-4138-a76d-f04272bfbf09",
   "metadata": {},
   "outputs": [],
   "source": [
    "# 📦 Step 1: Import required libraries\n",
    "import numpy as np\n",
    "import pandas as pd\n",
    "import matplotlib.pyplot as plt\n",
    "import yfinance as yf\n",
    "from sklearn.preprocessing import MinMaxScaler\n",
    "from tensorflow.keras.models import Sequential\n",
    "from tensorflow.keras.layers import Dense, LSTM\n",
    "\n",
    "# 📥 Step 2: Download stock data\n",
    "df = yf.download('AAPL', start='2015-01-01', end='2024-12-31')\n",
    "df = df[['Close']]  # We use only the 'Close' prices\n",
    "df.dropna(inplace=True)\n",
    "\n",
    "# 🔄 Step 3: Normalize data (important for LSTM training)\n",
    "scaler = MinMaxScaler()\n",
    "scaled_data = scaler.fit_transform(df)\n",
    "\n",
    "# 🧠 Step 4: Prepare training data\n",
    "X = []\n",
    "y = []\n",
    "time_step = 60  # Use 60 previous days to predict the next day\n",
    "\n",
    "for i in range(time_step, len(scaled_data)):\n",
    "    X.append(scaled_data[i - time_step:i, 0])\n",
    "    y.append(scaled_data[i, 0])\n",
    "\n",
    "X = np.array(X)\n",
    "y = np.array(y)\n",
    "\n",
    "# Reshape to 3D array for LSTM [samples, time steps, features]\n",
    "X = X.reshape(X.shape[0], X.shape[1], 1)\n",
    "\n",
    "# 🏗 Step 5: Build LSTM Model\n",
    "model = Sequential()\n",
    "model.add(LSTM(units=50, return_sequences=True, input_shape=(X.shape[1], 1)))\n",
    "model.add(LSTM(units=50))\n",
    "model.add(Dense(1))  # Output layer\n",
    "\n",
    "model.compile(optimizer='adam', loss='mean_squared_error')\n",
    "\n",
    "# 🧪 Step 6: Train the model\n",
    "model.fit(X, y, epochs=5, batch_size=32)\n",
    "\n",
    "# 📈 Step 7: Make predictions\n",
    "predicted = model.predict(X)\n",
    "predicted = scaler.inverse_transform(predicted)  # Convert back to original scale\n",
    "actual = scaler.inverse_transform(y.reshape(-1, 1))\n",
    "\n",
    "# 🎨 Step 8: Plot the predictions\n",
    "plt.figure(figsize=(10, 6))\n",
    "plt.plot(actual, label='Actual Prices', color='blue')\n",
    "plt.plot(predicted, label='Predicted Prices', color='red')\n",
    "plt.title('LSTM Stock Price Prediction (AAPL)')\n",
    "plt.xlabel('Time')\n",
    "plt.ylabel('Stock Price')\n",
    "plt.legend()\n",
    "plt.grid(True)\n",
    "plt.show()"
   ]
  },
  {
   "cell_type": "code",
   "execution_count": null,
   "id": "857cdea1-6551-4fe6-86da-dcf504a34c78",
   "metadata": {},
   "outputs": [],
   "source": [
    "pip install scikit-learn"
   ]
  },
  {
   "cell_type": "code",
   "execution_count": null,
   "id": "01295b1e-68cb-4399-a4f4-1d55039b533f",
   "metadata": {},
   "outputs": [],
   "source": [
    "pip install tensorflow"
   ]
  },
  {
   "cell_type": "code",
   "execution_count": null,
   "id": "dd7fb8d3-7550-4669-8827-95533885e55f",
   "metadata": {},
   "outputs": [],
   "source": []
  },
  {
   "cell_type": "code",
   "execution_count": null,
   "id": "7142558a-815c-4d2c-b7e3-0482be000916",
   "metadata": {},
   "outputs": [],
   "source": []
  },
  {
   "cell_type": "code",
   "execution_count": null,
   "id": "2a746b33-6628-4f1a-a4d4-974d534a9303",
   "metadata": {},
   "outputs": [],
   "source": [
    "# 📦 Step 1: Import required libraries\n",
    "import numpy as np\n",
    "import pandas as pd\n",
    "import matplotlib.pyplot as plt\n",
    "import yfinance as yf\n",
    "from sklearn.preprocessing import MinMaxScaler\n",
    "from tensorflow.keras.models import Sequential\n",
    "from tensorflow.keras.layers import Dense, LSTM\n",
    "\n",
    "# 📥 Step 2: Download stock data\n",
    "df = yf.download('AAPL', start='2015-01-01', end='2024-12-31')\n",
    "df = df[['Close']]  # We use only the 'Close' prices\n",
    "df.dropna(inplace=True)\n",
    "\n",
    "# 🔄 Step 3: Normalize data (important for LSTM training)\n",
    "scaler = MinMaxScaler()\n",
    "scaled_data = scaler.fit_transform(df)\n",
    "\n",
    "# 🧠 Step 4: Prepare training data\n",
    "X = []\n",
    "y = []\n",
    "time_step = 60  # Use 60 previous days to predict the next day\n",
    "\n",
    "for i in range(time_step, len(scaled_data)):\n",
    "    X.append(scaled_data[i - time_step:i, 0])\n",
    "    y.append(scaled_data[i, 0])\n",
    "\n",
    "X = np.array(X)\n",
    "y = np.array(y)\n",
    "\n",
    "# Reshape to 3D array for LSTM [samples, time steps, features]\n",
    "X = X.reshape(X.shape[0], X.shape[1], 1)\n",
    "\n",
    "# 🏗 Step 5: Build LSTM Model\n",
    "model = Sequential()\n",
    "model.add(LSTM(units=50, return_sequences=True, input_shape=(X.shape[1], 1)))\n",
    "model.add(LSTM(units=50))\n",
    "model.add(Dense(1))  # Output layer\n",
    "\n",
    "model.compile(optimizer='adam', loss='mean_squared_error')\n",
    "\n",
    "# 🧪 Step 6: Train the model\n",
    "model.fit(X, y, epochs=5, batch_size=32)\n",
    "\n",
    "# 📈 Step 7: Make predictions\n",
    "predicted = model.predict(X)\n",
    "predicted = scaler.inverse_transform(predicted)  # Convert back to original scale\n",
    "actual = scaler.inverse_transform(y.reshape(-1, 1))\n",
    "\n",
    "# 🎨 Step 8: Plot the predictions\n",
    "plt.figure(figsize=(10, 6))\n",
    "plt.plot(actual, label='Actual Prices', color='blue')\n",
    "plt.plot(predicted, label='Predicted Prices', color='red')\n",
    "plt.title('LSTM Stock Price Prediction (AAPL)')\n",
    "plt.xlabel('Time')\n",
    "plt.ylabel('Stock Price')\n",
    "plt.legend()\n",
    "plt.grid(True)\n",
    "plt.show()"
   ]
  },
  {
   "cell_type": "code",
   "execution_count": null,
   "id": "43513b0e-98da-4e44-954e-d21e5bf5c72b",
   "metadata": {},
   "outputs": [],
   "source": [
    "!pip install tensorflow"
   ]
  },
  {
   "cell_type": "code",
   "execution_count": null,
   "id": "92143730-f756-464e-a5a3-cf0d69e66d9a",
   "metadata": {},
   "outputs": [],
   "source": [
    "pip install tensorflow==2.13"
   ]
  },
  {
   "cell_type": "code",
   "execution_count": null,
   "id": "4d7ff594-d8fb-4aa0-b362-24c790c494eb",
   "metadata": {},
   "outputs": [],
   "source": [
    "# 📦 Step 1: Import required libraries\n",
    "import numpy as np\n",
    "import pandas as pd\n",
    "import matplotlib.pyplot as plt\n",
    "import yfinance as yf\n",
    "from sklearn.preprocessing import MinMaxScaler\n",
    "from tensorflow.keras.models import Sequential\n",
    "from tensorflow.keras.layers import Dense, LSTM\n",
    "\n",
    "# 📥 Step 2: Download stock data\n",
    "df = yf.download('AAPL', start='2015-01-01', end='2024-12-31')\n",
    "df = df[['Close']]  # We use only the 'Close' prices\n",
    "df.dropna(inplace=True)\n",
    "\n",
    "# 🔄 Step 3: Normalize data (important for LSTM training)\n",
    "scaler = MinMaxScaler()\n",
    "scaled_data = scaler.fit_transform(df)\n",
    "\n",
    "# 🧠 Step 4: Prepare training data\n",
    "X = []\n",
    "y = []\n",
    "time_step = 60  # Use 60 previous days to predict the next day\n",
    "\n",
    "for i in range(time_step, len(scaled_data)):\n",
    "    X.append(scaled_data[i - time_step:i, 0])\n",
    "    y.append(scaled_data[i, 0])\n",
    "\n",
    "X = np.array(X)\n",
    "y = np.array(y)\n",
    "\n",
    "# Reshape to 3D array for LSTM [samples, time steps, features]\n",
    "X = X.reshape(X.shape[0], X.shape[1], 1)\n",
    "\n",
    "# 🏗 Step 5: Build LSTM Model\n",
    "model = Sequential()\n",
    "model.add(LSTM(units=50, return_sequences=True, input_shape=(X.shape[1], 1)))\n",
    "model.add(LSTM(units=50))\n",
    "model.add(Dense(1))  # Output layer\n",
    "\n",
    "model.compile(optimizer='adam', loss='mean_squared_error')\n",
    "\n",
    "# 🧪 Step 6: Train the model\n",
    "model.fit(X, y, epochs=5, batch_size=32)\n",
    "\n",
    "# 📈 Step 7: Make predictions\n",
    "predicted = model.predict(X)\n",
    "predicted = scaler.inverse_transform(predicted)  # Convert back to original scale\n",
    "actual = scaler.inverse_transform(y.reshape(-1, 1))\n",
    "\n",
    "# 🎨 Step 8: Plot the predictions\n",
    "plt.figure(figsize=(10, 6))\n",
    "plt.plot(actual, label='Actual Prices', color='blue')\n",
    "plt.plot(predicted, label='Predicted Prices', color='red')\n",
    "plt.title('LSTM Stock Price Prediction (AAPL)')\n",
    "plt.xlabel('Time')\n",
    "plt.ylabel('Stock Price')\n",
    "plt.legend()\n",
    "plt.grid(True)\n",
    "plt.show()"
   ]
  },
  {
   "cell_type": "code",
   "execution_count": null,
   "id": "8849120c-2181-48d6-b2ec-d96fb5fb92af",
   "metadata": {},
   "outputs": [],
   "source": [
    "!pip install tensorflow"
   ]
  },
  {
   "cell_type": "code",
   "execution_count": null,
   "id": "7158d77a-f78b-47d1-9077-10446e854d87",
   "metadata": {},
   "outputs": [],
   "source": [
    "!pip install tensorflow"
   ]
  },
  {
   "cell_type": "code",
   "execution_count": null,
   "id": "65132b58-fb47-4ac2-a0f5-aca07bc1b30e",
   "metadata": {},
   "outputs": [],
   "source": [
    "conda create -n tfenv python=3.10\n",
    "conda activate tfenv\n",
    "pip install tensorflow"
   ]
  },
  {
   "cell_type": "code",
   "execution_count": 2,
   "id": "cd0eedab-7930-406f-a593-98f357876aa4",
   "metadata": {},
   "outputs": [
    {
     "ename": "SyntaxError",
     "evalue": "invalid syntax (508336645.py, line 1)",
     "output_type": "error",
     "traceback": [
      "  \u001b[36mCell\u001b[39m\u001b[36m \u001b[39m\u001b[32mIn[2]\u001b[39m\u001b[32m, line 1\u001b[39m\n\u001b[31m    \u001b[39m\u001b[31mconda create -n tfenv python=3.10\u001b[39m\n          ^\n\u001b[31mSyntaxError\u001b[39m\u001b[31m:\u001b[39m invalid syntax\n"
     ]
    }
   ],
   "source": [
    "conda create -n tfenv python=3.10\n",
    "conda activate tfenv\n",
    "pip install tensorflow"
   ]
  },
  {
   "cell_type": "code",
   "execution_count": null,
   "id": "30b3fec6-351d-4ef7-95c8-5e811004a873",
   "metadata": {},
   "outputs": [],
   "source": []
  }
 ],
 "metadata": {
  "kernelspec": {
   "display_name": "Python 3 (ipykernel)",
   "language": "python",
   "name": "python3"
  },
  "language_info": {
   "codemirror_mode": {
    "name": "ipython",
    "version": 3
   },
   "file_extension": ".py",
   "mimetype": "text/x-python",
   "name": "python",
   "nbconvert_exporter": "python",
   "pygments_lexer": "ipython3",
   "version": "3.13.5"
  }
 },
 "nbformat": 4,
 "nbformat_minor": 5
}
